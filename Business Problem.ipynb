{
    "cells": [
        {
            "metadata": {
                "collapsed": true
            },
            "cell_type": "markdown",
            "source": "# CAPSTONE PROJECT \u2013 THE BATTLE OF NEIGHBORHOODS"
        },
        {
            "metadata": {},
            "cell_type": "markdown",
            "source": "## BACKGROUND"
        },
        {
            "metadata": {},
            "cell_type": "markdown",
            "source": "The COVID-19 disease is an ongoing pandemic in the world. The disease is caused a novel coronavirus. The disease originated from Wuhan, China in December 2019 and has now spread across all continents in the world. The disease is caused by the coronavirus believed to have come from bats and pangolins. \nCurrently in the world, there are 2,159,450 cases of COVID-19 with 145,568 deaths and 549,592 recovered cases. The most hit countries in the world are United States of America, United Kingdom, Italy, Spain, China, and France.\nThe disease is in its initial stages in Sub-Saharan Africa like Nigeria, South Africa, Uganda, and Ghana."
        },
        {
            "metadata": {},
            "cell_type": "markdown",
            "source": "### BUSINESS PROBLEM"
        },
        {
            "metadata": {},
            "cell_type": "markdown",
            "source": "The disease really affected Italy and spread with high rates of infection and deaths. Nigeria is still showing a low number of cases. This project seeks to find how similar Italy and Nigeria are and the factors that were responsible for the high rate of infection and deaths in Italy. The degree of similarity will allow us to predict the rate of spread in Nigeria since it\u2019ll follow the pattern of spread in Italy.\nOur business problem asks the following questions.\n1.\tHow similar are neighborhoods in Italy and Nigeria?\n2.\tWhat\u2019s the current infection rate per million persons in both countries?\n3.\tWhat factors contributed to the high rate of infection of COVID-19 in Italy?\n4.\tWhat interventions did Italy do to slow down the rate of infection?\n5.\tWill the same interventions work for Nigeria? "
        }
    ],
    "metadata": {
        "kernelspec": {
            "name": "python3",
            "display_name": "Python 3.6",
            "language": "python"
        },
        "language_info": {
            "name": "python",
            "version": "3.6.9",
            "mimetype": "text/x-python",
            "codemirror_mode": {
                "name": "ipython",
                "version": 3
            },
            "pygments_lexer": "ipython3",
            "nbconvert_exporter": "python",
            "file_extension": ".py"
        }
    },
    "nbformat": 4,
    "nbformat_minor": 1
}