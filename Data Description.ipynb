{
    "cells": [
        {
            "metadata": {
                "collapsed": true
            },
            "cell_type": "markdown",
            "source": "# Capstone Project - The Battle of Neighborhoods\n"
        },
        {
            "metadata": {},
            "cell_type": "markdown",
            "source": "## COVID-19 Data"
        },
        {
            "metadata": {},
            "cell_type": "markdown",
            "source": "To obtain the data for our analysis, first lets obtain the data of all the cases of Covid-19 in Italy and Nigeria. Then we can start answering all the questions by analyzing the data obtained. This can be done by getting datasets from Kaggle, Nigerian centre for Disease Control Webiste(NCDC), Kdnugget, WHO and other sites that have real time data on COVID-19."
        },
        {
            "metadata": {},
            "cell_type": "markdown",
            "source": "## Neighborhood data"
        },
        {
            "metadata": {},
            "cell_type": "markdown",
            "source": "Once we obtain all the data related to COVID-19 in the two countries, we may also need to understand and analyse the neighborhood data of each country to understand more about the number of cases and consider it as a factor for deciding the infection rate in the two countries. This can be obtained as Foursquare API."
        },
        {
            "metadata": {},
            "cell_type": "markdown",
            "source": "## Geocoder python"
        },
        {
            "metadata": {},
            "cell_type": "markdown",
            "source": "Now we use geocoder to obtain the latitude and longitude of each location."
        },
        {
            "metadata": {},
            "cell_type": "markdown",
            "source": "## Process"
        },
        {
            "metadata": {},
            "cell_type": "markdown",
            "source": "First we will obtain data of the total cases, recoverires and deaths, the infection rate.\nNext we look at neighborhood data and their potential influence on the spread of the disease.\nonce we obtain all the data, we compare all the locations for pros and cons by looking at number of cases, number of recoveries, number of deaths to arrive at the infection rate.\nBy analyzing the data of Italy,their neighbourhoods,their ratings,cuisines and average price ,we can find a optimistic location for establishing a cafe."
        }
    ],
    "metadata": {
        "kernelspec": {
            "name": "python3",
            "display_name": "Python 3.6",
            "language": "python"
        },
        "language_info": {
            "name": "python",
            "version": "3.6.9",
            "mimetype": "text/x-python",
            "codemirror_mode": {
                "name": "ipython",
                "version": 3
            },
            "pygments_lexer": "ipython3",
            "nbconvert_exporter": "python",
            "file_extension": ".py"
        }
    },
    "nbformat": 4,
    "nbformat_minor": 1
}