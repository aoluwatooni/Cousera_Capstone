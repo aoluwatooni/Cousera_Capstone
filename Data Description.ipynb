{
    "cells": [
        {
            "cell_type": "markdown",
            "metadata": {
                "collapsed": true
            },
            "source": "# Capstone Project - The Battle of Neighborhoods\n"
        },
        {
            "cell_type": "markdown",
            "metadata": {},
            "source": "## COVID-19 Data"
        },
        {
            "cell_type": "markdown",
            "metadata": {},
            "source": "To obtain the data for our analysis, first lets obtain the data of all the cases of Covid-19 in Italy and Nigeria. Then we can start answering all the questions by analyzing the data obtained. This can be done by getting datasets from Kaggle, Nigerian centre for Disease Control Webiste(NCDC), Kdnugget, WHO and other sites that have real time data on COVID-19."
        },
        {
            "cell_type": "markdown",
            "metadata": {},
            "source": "## Neighborhood data"
        },
        {
            "cell_type": "markdown",
            "metadata": {},
            "source": "Once we obtain all the data related to COVID-19 in the two countries, we may also need to understand and analyse the neighborhood data of each country to understand more about the number of cases and consider it as a factor for deciding the infection rate in the two countries. This can be obtained as Foursquare API."
        },
        {
            "cell_type": "markdown",
            "metadata": {},
            "source": "## Geocoder python"
        },
        {
            "cell_type": "markdown",
            "metadata": {},
            "source": "Now we use geocoder to obtain the latitude and longitude of each location."
        },
        {
            "cell_type": "markdown",
            "metadata": {},
            "source": "## Process"
        },
        {
            "cell_type": "markdown",
            "metadata": {},
            "source": "First we will obtain data of the total cases, recoverires and deaths, the infection rate.\nNext we look at neighborhood data and cluster the neigb their potential influence on the spread of the disease.\nonce we obtain all the data, we compare all the locations for pros and cons by looking at number of cases, number of recoveries, number of deaths to arrive at the infection rate.\nBy analyzing the data of Italy,their neighbourhoods, their cases,,we can find how the disease would spread in Nigeria and interventions needed to be put in place by the government to make sure the spread of the disease is checked"
        },
        {
            "cell_type": "code",
            "execution_count": null,
            "metadata": {},
            "outputs": [],
            "source": ""
        }
    ],
    "metadata": {
        "kernelspec": {
            "display_name": "Python 3.6",
            "language": "python",
            "name": "python3"
        },
        "language_info": {
            "codemirror_mode": {
                "name": "ipython",
                "version": 3
            },
            "file_extension": ".py",
            "mimetype": "text/x-python",
            "name": "python",
            "nbconvert_exporter": "python",
            "pygments_lexer": "ipython3",
            "version": "3.6.9"
        }
    },
    "nbformat": 4,
    "nbformat_minor": 1
}